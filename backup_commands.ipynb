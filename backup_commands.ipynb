{
 "cells": [
  {
   "cell_type": "code",
   "execution_count": null,
   "metadata": {},
   "outputs": [],
   "source": [
    "from src.bulk_changes.reading_file import read_imei_and_setting, read_imeis\n",
    "from src.bulk_changes.creating_commands import *\n",
    "from bulk_changes import get_user_choice\n",
    "import json"
   ]
  },
  {
   "cell_type": "markdown",
   "metadata": {},
   "source": [
    "ENTER THE FILE PATH "
   ]
  },
  {
   "cell_type": "code",
   "execution_count": null,
   "metadata": {},
   "outputs": [],
   "source": [
    "filepath = \"\""
   ]
  },
  {
   "cell_type": "code",
   "execution_count": null,
   "metadata": {},
   "outputs": [],
   "source": [
    "column_data = read_imeis(filepath)"
   ]
  },
  {
   "cell_type": "code",
   "execution_count": null,
   "metadata": {},
   "outputs": [],
   "source": [
    "profile_id = {\n",
    "    'Device Management Profile - Basic': '5e834741447cfb6072a732a5',\n",
    "    'Device Management Profile - Troubleshooting': '5e834741447cfb6072a732dc',\n",
    "    'Minimal FOTA Profile': '5e834741447cfb6072a73326',\n",
    "    'Obadiah 0': '6087d448447cfb2d2073be0f',\n",
    "    'LIDoTT_Alarm': '63b8280eba2b573dfc0244c4',\n",
    "    'Obadiah 3': '63d6813c447cfb129dbde2c3',\n",
    "    'Obadiah 3 FUOTA': '641c21b9ba2b5774167b6416',\n",
    "    'Obadiah 3 FUOTA/Backlog': '648c4b1b447cfb51c5f192d9',\n",
    "    'Obadiah with Connection Monitoring and OB2 extras': '64db4b9b447cfb74f7cde52f',\n",
    "    'Obadiah 3 FUOTA Type 2': '64df520c447cfb3ded863f9a',\n",
    "    'Obadiah 3 FUOTA/Backlog/NW-Select': '64e620ae447cfb3dedd0f2f9'\n",
    "}"
   ]
  },
  {
   "cell_type": "code",
   "execution_count": null,
   "metadata": {},
   "outputs": [],
   "source": [
    "think_key = {\n",
    "    \"Default\": \"default\",\n",
    "    \"Obadiah 0\": \"obadiah_0\",\n",
    "    \"Obadiah 3\": \"obadiah_3\",\n",
    "    \"LIDoTT\": \"obadiah_3_fuota\",\n",
    "    \"Obadiah 3 FUOTA Backlog Debug only\": \"obadiah_3_fuota_backlog\",\n",
    "    \"Obadiah 3 FUOTA/Backlog/NW-Select\": \"obadiah_3_fuota_backlog_nw_select\",\n",
    "    \"Obadiah 3 SAL Dev\": \"obadiah_3_sal_dev\"\n",
    "}\n",
    "\n"
   ]
  },
  {
   "cell_type": "code",
   "execution_count": null,
   "metadata": {},
   "outputs": [],
   "source": [
    "choice = await get_user_choice()\n",
    "\n",
    "if choice == \"1\":\n",
    "    tag_names_input = input(\"Enter the tag names separated by commas: \")\n",
    "    tag_names = [tag.strip() for tag in tag_names_input.split(',')]\n",
    "    commands = await create_commands_tags(column_data, tag_names)\n",
    "elif choice == \"2\":\n",
    "    profile_name = input(\"Enter the profile name: \")\n",
    "    if profile_name in profile_id:\n",
    "        profile_id_value = profile_id[profile_name]\n",
    "    else:\n",
    "        print(f\"Profile name '{profile_name}' not found.\")   \n",
    "    commands = await create_commands_device_profile(column_data, profile_id=profile_id_value)\n",
    "elif choice == \"3\":\n",
    "    thing_def_name = input(\"Enter the thing def name: \")\n",
    "    if thing_def_name in think_key:\n",
    "        think_key_value = think_key[thing_def_name]\n",
    "    else:\n",
    "        print(f\"Thing def name '{thing_def_name}' not found.\")\n",
    "    commands = await create_commands_thing_def(column_data, think_key=think_key_value)\n",
    "elif choice == \"4\":\n",
    "    column_data, values = read_imei_and_setting(filepath)\n",
    "    commands = await create_commands_settings(column_data, values)\n",
    "elif choice == \"5\":\n",
    "    commands = await create_commands_undeploy(column_data)\n",
    "elif choice == \"q\":\n",
    "    print(\"Goodbye!\")\n"
   ]
  },
  {
   "cell_type": "code",
   "execution_count": null,
   "metadata": {},
   "outputs": [],
   "source": [
    "print(json.dumps(commands, indent=4))"
   ]
  },
  {
   "cell_type": "markdown",
   "metadata": {},
   "source": [
    "only for UNDEPLOYING"
   ]
  },
  {
   "cell_type": "markdown",
   "metadata": {},
   "source": [
    "    undeploy server commands"
   ]
  },
  {
   "cell_type": "code",
   "execution_count": null,
   "metadata": {},
   "outputs": [],
   "source": [
    "select_query = \"SELECT * FROM DEPLOYMENT_QUEUE WHERE imei in ({});\".format(\", \".join(map(str, column_data)))\n",
    "print(select_query)"
   ]
  },
  {
   "cell_type": "code",
   "execution_count": null,
   "metadata": {},
   "outputs": [],
   "source": [
    "delete_query = \"DELETE FROM DEPLOYMENT_QUEUE WHERE imei in ({});\".format(\", \".join(map(str, column_data)))\n",
    "print(delete_query)"
   ]
  }
 ],
 "metadata": {
  "kernelspec": {
   "display_name": "Python 3",
   "language": "python",
   "name": "python3"
  },
  "language_info": {
   "codemirror_mode": {
    "name": "ipython",
    "version": 3
   },
   "file_extension": ".py",
   "mimetype": "text/x-python",
   "name": "python",
   "nbconvert_exporter": "python",
   "pygments_lexer": "ipython3",
   "version": "3.11.4"
  }
 },
 "nbformat": 4,
 "nbformat_minor": 2
}
